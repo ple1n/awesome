{
 "cells": [
  {
   "cell_type": "code",
   "execution_count": 3,
   "id": "4dba2cbe",
   "metadata": {},
   "outputs": [],
   "source": [
    "import jax\n",
    "from jax import numpy as jnp"
   ]
  },
  {
   "cell_type": "code",
   "execution_count": 24,
   "id": "1fdad06f",
   "metadata": {},
   "outputs": [],
   "source": [
    "def normalize(row: jax.Array, v0):\n",
    "    sum = row.sum()\n",
    "    if sum > 0:\n",
    "        return row / sum\n",
    "    else:\n",
    "        return v0\n",
    "\n",
    "\n",
    "def t_iter(op, v0, v1):\n",
    "    op1 = jnp.stack([\n",
    "        normalize(row, v0) for row in op\n",
    "    ])\n",
    "    return op1.T @ v1"
   ]
  },
  {
   "cell_type": "code",
   "execution_count": 27,
   "id": "99c37abe",
   "metadata": {},
   "outputs": [
    {
     "data": {
      "text/plain": [
       "Array([0., 0., 0., 0., 0.], dtype=float32)"
      ]
     },
     "execution_count": 27,
     "metadata": {},
     "output_type": "execute_result"
    }
   ],
   "source": [
    "from jax import random\n",
    "\n",
    "n = 5\n",
    "rk = random.key(1)\n",
    "op = jnp.zeros((n, n))\n",
    "v0 = jax.random.uniform(key=rk, shape=n)\n",
    "v1 = jnp.zeros(n)\n",
    "\n",
    "t_iter(op, v0, v1)"
   ]
  },
  {
   "cell_type": "code",
   "execution_count": 31,
   "id": "14a4dcf0",
   "metadata": {},
   "outputs": [
    {
     "ename": "TypeError",
     "evalue": "Gradient only defined for scalar-output functions. Output had shape: (5,).",
     "output_type": "error",
     "traceback": [
      "\u001b[31m---------------------------------------------------------------------------\u001b[39m",
      "\u001b[31mTypeError\u001b[39m                                 Traceback (most recent call last)",
      "\u001b[36mCell\u001b[39m\u001b[36m \u001b[39m\u001b[32mIn[31]\u001b[39m\u001b[32m, line 3\u001b[39m\n\u001b[32m      1\u001b[39m \u001b[38;5;28;01mfrom\u001b[39;00m\u001b[38;5;250m \u001b[39m\u001b[34;01mjax\u001b[39;00m\u001b[38;5;250m \u001b[39m\u001b[38;5;28;01mimport\u001b[39;00m grad\n\u001b[32m----> \u001b[39m\u001b[32m3\u001b[39m \u001b[43mgrad\u001b[49m\u001b[43m(\u001b[49m\u001b[43mt_iter\u001b[49m\u001b[43m)\u001b[49m\u001b[43m(\u001b[49m\u001b[43mop\u001b[49m\u001b[43m,\u001b[49m\u001b[43m \u001b[49m\u001b[43mv0\u001b[49m\u001b[43m,\u001b[49m\u001b[43m \u001b[49m\u001b[43mv1\u001b[49m\u001b[43m)\u001b[49m\n",
      "    \u001b[31m[... skipping hidden 4 frame]\u001b[39m\n",
      "\u001b[36mFile \u001b[39m\u001b[32m/b/plein-awesome/.venv/lib/python3.12/site-packages/jax/_src/api.py:533\u001b[39m, in \u001b[36m_check_scalar\u001b[39m\u001b[34m(x)\u001b[39m\n\u001b[32m    531\u001b[39m \u001b[38;5;28;01mif\u001b[39;00m \u001b[38;5;28misinstance\u001b[39m(aval, ShapedArray):\n\u001b[32m    532\u001b[39m   \u001b[38;5;28;01mif\u001b[39;00m aval.shape != ():\n\u001b[32m--> \u001b[39m\u001b[32m533\u001b[39m     \u001b[38;5;28;01mraise\u001b[39;00m \u001b[38;5;167;01mTypeError\u001b[39;00m(msg(\u001b[33mf\u001b[39m\u001b[33m\"\u001b[39m\u001b[33mhad shape: \u001b[39m\u001b[38;5;132;01m{\u001b[39;00maval.shape\u001b[38;5;132;01m}\u001b[39;00m\u001b[33m\"\u001b[39m))\n\u001b[32m    534\u001b[39m \u001b[38;5;28;01melse\u001b[39;00m:\n\u001b[32m    535\u001b[39m   \u001b[38;5;28;01mraise\u001b[39;00m \u001b[38;5;167;01mTypeError\u001b[39;00m(msg(\u001b[33mf\u001b[39m\u001b[33m\"\u001b[39m\u001b[33mhad abstract value \u001b[39m\u001b[38;5;132;01m{\u001b[39;00maval\u001b[38;5;132;01m}\u001b[39;00m\u001b[33m\"\u001b[39m))\n",
      "\u001b[31mTypeError\u001b[39m: Gradient only defined for scalar-output functions. Output had shape: (5,)."
     ]
    }
   ],
   "source": [
    "from jax import grad\n",
    "\n",
    "grad(t_iter)(op, v0, v1)"
   ]
  },
  {
   "cell_type": "code",
   "execution_count": null,
   "id": "4dd0d365",
   "metadata": {},
   "outputs": [],
   "source": []
  }
 ],
 "metadata": {
  "kernelspec": {
   "display_name": ".venv",
   "language": "python",
   "name": "python3"
  },
  "language_info": {
   "codemirror_mode": {
    "name": "ipython",
    "version": 3
   },
   "file_extension": ".py",
   "mimetype": "text/x-python",
   "name": "python",
   "nbconvert_exporter": "python",
   "pygments_lexer": "ipython3",
   "version": "3.12.5"
  }
 },
 "nbformat": 4,
 "nbformat_minor": 5
}
